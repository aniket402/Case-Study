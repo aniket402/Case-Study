{
 "cells": [
  {
   "cell_type": "code",
   "execution_count": 15,
   "metadata": {},
   "outputs": [
    {
     "name": "stdout",
     "output_type": "stream",
     "text": [
      "Bangalore 630\n",
      "Mumbai 446\n",
      "New Delhi 386\n",
      "Gurgaon 240\n",
      "Noida 78\n"
     ]
    },
    {
     "data": {
      "image/png": "[encoded data removed]",
      "text/plain": [
       "<Figure size 432x288 with 1 Axes>"
      ]
     },
     "metadata": {
      "needs_background": "light"
     },
     "output_type": "display_data"
    }
   ],
   "source": [
    "# QUESTION 1\n",
    "\n",
    "import pandas as pd\n",
    "import matplotlib.pyplot as plt\n",
    "import numpy as np\n",
    "\n",
    "data=pd.read_csv('startup_funding.csv')\n",
    "\n",
    "data['CityLocation'].dropna(inplace=True)\n",
    "\n",
    "# removing extra spaces and then splitting.\n",
    "a=data['CityLocation'].str.split('/',expand=True)\n",
    "\n",
    "a[0].replace('bangalore','Bangalore',inplace=True)\n",
    "a[0].replace('Delhi','New Delhi',inplace=True)\n",
    "city = a[0].value_counts(ascending=False)\n",
    "x=[]\n",
    "y=[]\n",
    "\n",
    "\n",
    "for i in range(10):\n",
    "    b = city.index[i]\n",
    "    \n",
    "    # filtering only those locations which are desired\n",
    "    if b=='Bangalore' or b=='New Delhi' or b=='Gurgaon' or b=='Mumbai' or b=='Noida':\n",
    "        x.append(b)\n",
    "        y.append(city[i])\n",
    "        print(b,city[i])\n",
    "        \n",
    "\n",
    "plt.bar(x,y)\n",
    "plt.show()\n"
   ]
  },
  {
   "cell_type": "code",
   "execution_count": 3,
   "metadata": {},
   "outputs": [
    {
     "name": "stdout",
     "output_type": "stream",
     "text": [
      "Sequoia Capital 64\n",
      "Accel Partners 53\n",
      "Kalaari Capital 44\n",
      "SAIF Partners 41\n",
      "Indian Angel Network 40\n"
     ]
    },
    {
     "data": {
      "image/png": "[encoded data removed]",
      "text/plain": [
       "<Figure size 432x288 with 1 Axes>"
      ]
     },
     "metadata": {
      "needs_background": "light"
     },
     "output_type": "display_data"
    }
   ],
   "source": [
    "# QUESTION 2\n",
    "\n",
    "import pandas as pd\n",
    "import matplotlib.pyplot as plt\n",
    "import numpy as np\n",
    "\n",
    "df=pd.read_csv('startup_funding.csv')\n",
    "\n",
    "data = df[df['InvestorsName'].notnull()]\n",
    "\n",
    "x=[]\n",
    "\n",
    "def f(str):\n",
    "    a=str.split(',')\n",
    "    for ele in a:\n",
    "        ele=ele.strip()\n",
    "        x.append(ele)\n",
    "        \n",
    "data['InvestorsName'].apply(f)\n",
    "\n",
    "y=pd.Series(x)\n",
    "z=y.value_counts()\n",
    "\n",
    "inv=[]\n",
    "fund=[]\n",
    "\n",
    "for i in range(5):\n",
    "    inv.append(z.index[i])\n",
    "    fund.append(z[i])\n",
    "    print(z.index[i],z[i])\n",
    "    \n",
    "plt.bar(inv,fund)\n",
    "plt.xticks(rotation=40)\n",
    "plt.show()"
   ]
  },
  {
   "cell_type": "code",
   "execution_count": 5,
   "metadata": {},
   "outputs": [
    {
     "name": "stdout",
     "output_type": "stream",
     "text": [
      "Sequoia Capital 48 \n",
      "Accel Partners 47 \n",
      "Kalaari Capital 41 \n",
      "Indian Angel Network 40 \n",
      "Blume Ventures 36\n"
     ]
    }
   ],
   "source": [
    "# QUESTION 3\n",
    "\n",
    "import numpy as np\n",
    "import pandas as pd\n",
    "import matplotlib.pyplot as plt\n",
    "\n",
    "data=pd.read_csv('startup_funding.csv')\n",
    "\n",
    "data['StartupName'].replace('Ola Cabs','Ola',inplace=True)\n",
    "data['StartupName'].replace('Olacabs','Ola',inplace=True)\n",
    "data['StartupName'].replace('Paytm Marketplace','Paytm',inplace=True)\n",
    "data['StartupName'].replace('OyoRooms','Oyo',inplace=True)\n",
    "data['StartupName'].replace('OYOfit','Oyo',inplace=True)\n",
    "data['StartupName'].replace('Oyorooms','Oyo',inplace=True)\n",
    "data['StartupName'].replace('OYO Rooms','Oyo',inplace=True)\n",
    "data['StartupName'].replace('Oyo Rooms','Oyo',inplace=True)\n",
    "data['StartupName'].replace('Flipkart.com','Flipkart',inplace=True)\n",
    "data['InvestmentType'].replace('PrivateEquity','Private Equity',inplace=True)\n",
    "data['InvestmentType'].replace('Crowd funding','Crowd Funding',inplace=True)\n",
    "data['InvestmentType'].replace('SeedFunding','Seed Funding',inplace=True)\n",
    "data['InvestmentType'].replace('Undisclosed investors','Undisclosed Investors',inplace=True)\n",
    "\n",
    "\n",
    "data.dropna(subset=['InvestorsName'],inplace=True)\n",
    "\n",
    "a=data['StartupName'].unique()\n",
    "d={}\n",
    "for startup in a:\n",
    "    s=data[data['StartupName']==startup]\n",
    "    \n",
    "    x=[]\n",
    "    def f(str):\n",
    "        v=str.split(',')\n",
    "        for ele in v:\n",
    "            ele=ele.strip()\n",
    "            x.append(ele)\n",
    "            \n",
    "    s['InvestorsName'].apply(f)\n",
    "    y=pd.Series(x)\n",
    "    y=y.unique()\n",
    "    for ele in y:\n",
    "        key=ele\n",
    "        d[key]=d.get(key,0)+1\n",
    "sort_d=sorted(d.items(),key=lambda x:x[1],reverse=True)\n",
    "for i in range(4):\n",
    "    for j in range(2):\n",
    "        print(sort_d[i][j],end=' ')\n",
    "    print()\n",
    "print(sort_d[5][0],sort_d[5][1])"
   ]
  },
  {
   "cell_type": "code",
   "execution_count": 2,
   "metadata": {},
   "outputs": [
    {
     "name": "stderr",
     "output_type": "stream",
     "text": [
      "C:\\Users\\ANIKET\\Anaconda3\\lib\\site-packages\\ipykernel_launcher.py:41: DeprecationWarning: The default dtype for empty Series will be 'object' instead of 'float64' in a future version. Specify a dtype explicitly to silence this warning.\n"
     ]
    },
    {
     "name": "stdout",
     "output_type": "stream",
     "text": [
      "Indian Angel Network 33\n",
      "Rajan Anandan 23\n",
      "LetsVenture 16 \n",
      "Anupam Mittal 16 \n",
      "Kunal Shah 14 \n"
     ]
    }
   ],
   "source": [
    "# QUESTION 4\n",
    "\n",
    "import numpy as np\n",
    "import pandas as pd\n",
    "import matplotlib.pyplot as plt\n",
    "\n",
    "data=pd.read_csv('startup_funding.csv')\n",
    "\n",
    "# Changing names as per requirement\n",
    "data['StartupName'].replace('Ola Cabs','Ola',inplace=True)\n",
    "data['StartupName'].replace('Olacabs','Ola',inplace=True)\n",
    "data['StartupName'].replace('Paytm Marketplace','Paytm',inplace=True)\n",
    "data['StartupName'].replace('OyoRooms','Oyo',inplace=True)\n",
    "data['StartupName'].replace('OYOfit','Oyo',inplace=True)\n",
    "data['StartupName'].replace('Oyorooms','Oyo',inplace=True)\n",
    "data['StartupName'].replace('OYO Rooms','Oyo',inplace=True)\n",
    "data['StartupName'].replace('Oyo Rooms','Oyo',inplace=True)\n",
    "data['StartupName'].replace('Flipkart.com','Flipkart',inplace=True)\n",
    "data['InvestmentType'].replace('PrivateEquity','Private Equity',inplace=True)\n",
    "data['InvestmentType'].replace('Crowd funding','Crowd Funding',inplace=True)\n",
    "data['InvestmentType'].replace('SeedFunding','Seed Funding',inplace=True)\n",
    "data['InvestmentType'].replace('Undisclosed investors','Undisclosed Investors',inplace=True)\n",
    "\n",
    "\n",
    "data.dropna(subset=['InvestorsName'],inplace=True)\n",
    "data.dropna(subset=['InvestmentType'],inplace=True)\n",
    "a=data['StartupName'].unique()\n",
    "d={}\n",
    "for startup in a:\n",
    "    s=data[data['StartupName']==startup]\n",
    "    \n",
    "    r=s[(s['InvestmentType']=='Crowd Funding') | (s['InvestmentType']=='Seed Funding')]\n",
    "    x=[]\n",
    "    def f(str):\n",
    "        v=str.split(',')\n",
    "        for ele in v:\n",
    "            ele=ele.strip()\n",
    "            x.append(ele)\n",
    "            \n",
    "    r['InvestorsName'].apply(f)\n",
    "    y=pd.Series(x)\n",
    "    y=y.unique()\n",
    "    for ele in y:\n",
    "        key=ele\n",
    "        d[key]=d.get(key,0)+1\n",
    "sort_d=sorted(d.items(),key=lambda x:x[1],reverse=True)\n",
    "\n",
    "print(sort_d[0][0],sort_d[0][1])\n",
    "print(sort_d[3][0],sort_d[3][1])\n",
    "for i in range(5,8):\n",
    "    for j in range(0,2):\n",
    "        print(sort_d[i][j],end=' ')\n",
    "    print()\n"
   ]
  },
  {
   "cell_type": "code",
   "execution_count": 4,
   "metadata": {},
   "outputs": [
    {
     "name": "stderr",
     "output_type": "stream",
     "text": [
      "C:\\Users\\ANIKET\\Anaconda3\\lib\\site-packages\\ipykernel_launcher.py:40: DeprecationWarning: The default dtype for empty Series will be 'object' instead of 'float64' in a future version. Specify a dtype explicitly to silence this warning.\n"
     ]
    },
    {
     "name": "stdout",
     "output_type": "stream",
     "text": [
      "Sequoia Capital 45 \n",
      "Accel Partners 43 \n",
      "Kalaari Capital 35 \n",
      "Blume Ventures 27 \n",
      "SAIF Partners 24 \n"
     ]
    },
    {
     "data": {
      "image/png": "[encoded data removed]",
      "text/plain": [
       "<Figure size 432x288 with 1 Axes>"
      ]
     },
     "metadata": {},
     "output_type": "display_data"
    }
   ],
   "source": [
    "# QUESTION 5\n",
    "\n",
    "import numpy as np\n",
    "import pandas as pd\n",
    "import matplotlib.pyplot as plt\n",
    "\n",
    "data=pd.read_csv('startup_funding.csv')\n",
    "\n",
    "data['StartupName'].replace('Ola Cabs','Ola',inplace=True)\n",
    "data['StartupName'].replace('Olacabs','Ola',inplace=True)\n",
    "data['StartupName'].replace('Paytm Marketplace','Paytm',inplace=True)\n",
    "data['StartupName'].replace('OyoRooms','Oyo',inplace=True)\n",
    "data['StartupName'].replace('OYOfit','Oyo',inplace=True)\n",
    "data['StartupName'].replace('Oyorooms','Oyo',inplace=True)\n",
    "data['StartupName'].replace('OYO Rooms','Oyo',inplace=True)\n",
    "data['StartupName'].replace('Oyo Rooms','Oyo',inplace=True)\n",
    "data['StartupName'].replace('Flipkart.com','Flipkart',inplace=True)\n",
    "data['InvestmentType'].replace('PrivateEquity','Private Equity',inplace=True)\n",
    "data['InvestmentType'].replace('Crowd funding','Crowd Funding',inplace=True)\n",
    "data['InvestmentType'].replace('SeedFunding','Seed Funding',inplace=True)\n",
    "data['InvestmentType'].replace('Undisclosed investors','Undisclosed Investors',inplace=True)\n",
    "\n",
    "\n",
    "data.dropna(subset=['InvestorsName'],inplace=True)\n",
    "\n",
    "a=data['StartupName'].unique()\n",
    "d={}\n",
    "\n",
    "for startup in a:\n",
    "    s=data[data['StartupName']==startup]\n",
    "    \n",
    "    r=s[s['InvestmentType']=='Private Equity']\n",
    "    x=[]\n",
    "    def f(str):\n",
    "        v=str.split(',')\n",
    "        for ele in v:\n",
    "            ele=ele.strip()\n",
    "            x.append(ele)\n",
    "            \n",
    "    r['InvestorsName'].apply(f)\n",
    "    y=pd.Series(x)\n",
    "    y=y.unique()\n",
    "    for ele in y:\n",
    "        key=ele\n",
    "        d[key]=d.get(key,0)+1\n",
    "        \n",
    "sort_d=sorted(d.items(),key=lambda x:x[1],reverse=True)\n",
    "\n",
    "for i in range(5):\n",
    "    for j in range(2):\n",
    "        print(sort_d[i][j],end=' ')\n",
    "    print()\n",
    "    \n",
    "x=['Sequoia Capital','Accel Partners','Kalaari Capital','Indian Angel Network','Blume Ventures']\n",
    "s=[48,47,41,40,36]\n",
    "plt.pie(s,labels=x,autopct='%.2f%%',counterclock=False,startangle=90)\n",
    "plt.show()"
   ]
  }
 ],
 "metadata": {
  "kernelspec": {
   "display_name": "Python 3",
   "language": "python",
   "name": "python3"
  },
  "language_info": {
   "codemirror_mode": {
    "name": "ipython",
    "version": 3
   },
   "file_extension": ".py",
   "mimetype": "text/x-python",
   "name": "python",
   "nbconvert_exporter": "python",
   "pygments_lexer": "ipython3",
   "version": "3.7.4"
  }
 },
 "nbformat": 4,
 "nbformat_minor": 4
}
